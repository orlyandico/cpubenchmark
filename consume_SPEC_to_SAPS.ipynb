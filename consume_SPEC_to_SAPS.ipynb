{
 "cells": [
  {
   "cell_type": "markdown",
   "metadata": {},
   "source": [
    "## Predicting SAP Sales & Distribution Benchmark Results from cint_rate_base2006 Results\n",
    "Simply read back the pickle model from disk and do some predictions."
   ]
  },
  {
   "cell_type": "code",
   "execution_count": null,
   "metadata": {},
   "outputs": [],
   "source": [
    "import pandas as pd\n",
    "import numpy as np\n",
    "from sklearn.model_selection import validation_curve\n",
    "from sklearn.preprocessing import PolynomialFeatures\n",
    "from sklearn.linear_model import LinearRegression\n",
    "from sklearn.pipeline import make_pipeline\n",
    "from sklearn.model_selection import train_test_split, cross_val_predict\n",
    "from sklearn import ensemble, neural_network\n",
    "from sklearn.metrics import mean_squared_error, r2_score\n",
    "import matplotlib.pyplot as plt\n",
    "import pickle\n",
    "\n",
    "pd.set_option('display.max_colwidth', None)\n",
    "pd.set_option('mode.chained_assignment', None)\n",
    "\n",
    "pkl_filename = \"cint_rate_base2006_to_saps.pkl\"\n",
    "\n",
    "with open(pkl_filename, 'rb') as file:\n",
    "    model = pickle.load(file)\n",
    "\n",
    "# this function is what we use to make predictions; if this is all you want, you can stop right here\n",
    "def spec2saps(spec: float) -> float:\n",
    "    a = np.array([spec])\n",
    "    a = np.expand_dims(a, 0)\n",
    "    saps = model.predict(a)[0]\n",
    "\n",
    "    return (round(saps,-1))"
   ]
  },
  {
   "cell_type": "markdown",
   "metadata": {},
   "source": [
    "## Analysis\n",
    "\n",
    "Let's compare the polynomial fit with the ensemble model. Over the (small) manual validation set, the ensemble model provides qualitatively better results than the polynomial fit, except for the single very large sample (M10-4S). Above degree=3 the polynomial fit starts overfitting."
   ]
  },
  {
   "cell_type": "code",
   "execution_count": null,
   "metadata": {},
   "outputs": [],
   "source": [
    "# generate some sample data for SPECintrate2006 between 0 and 10000\n",
    "# warning: this will take a long time!\n",
    "df = pd.DataFrame()\n",
    "\n",
    "c = 0\n",
    "cols = ['cint_rate_base2006', 'SAPS']\n",
    "\n",
    "while (c < 10000):\n",
    "    data = [[c, spec2saps(c)]] \n",
    "    res = pd.DataFrame(data, columns = cols)\n",
    "\n",
    "    df = df.append(res)\n",
    "    c = c + 5\n",
    "\n",
    "df"
   ]
  },
  {
   "cell_type": "code",
   "execution_count": null,
   "metadata": {},
   "outputs": [],
   "source": [
    "X = df.iloc[:, 0].values.reshape(-1, 1)\n",
    "y = df.iloc[:, 1].values.reshape(-1, 1)\n",
    "\n",
    "X_seq = np.linspace(X.min(),X.max(),len(df)).reshape(-1,1)\n",
    "\n",
    "def PolynomialRegression(degree=2, **kwargs):\n",
    "    return make_pipeline(PolynomialFeatures(degree),\n",
    "                         LinearRegression(**kwargs))\n",
    "\n",
    "degree = np.arange(0, 10)\n",
    "train_score, val_score = validation_curve(PolynomialRegression(), X, y,\n",
    "                                          'polynomialfeatures__degree', degree, cv=7)\n",
    "\n",
    "plt.plot(degree, np.median(train_score, 1), color='blue', label='training score')\n",
    "plt.plot(degree, np.median(val_score, 1), color='red', label='validation score')\n",
    "plt.legend(loc='best')\n",
    "plt.ylim(0, 1)\n",
    "plt.xlabel('degree')\n",
    "plt.ylabel('score');"
   ]
  },
  {
   "cell_type": "code",
   "execution_count": null,
   "metadata": {},
   "outputs": [],
   "source": [
    "degree=3\n",
    "\n",
    "polyreg=make_pipeline(PolynomialFeatures(degree),LinearRegression())\n",
    "polyreg.fit(X,y)\n",
    "\n",
    "plt.figure()\n",
    "plt.scatter(X,y)\n",
    "plt.plot(X_seq,polyreg.predict(X_seq),color=\"black\")\n",
    "plt.title(\"Polynomial regression with degree \"+str(degree))\n",
    "plt.show()\n",
    "\n",
    "c = np.polyfit(df['cint_rate_base2006'], df['SAPS'], degree)\n",
    "print(c)"
   ]
  },
  {
   "cell_type": "markdown",
   "metadata": {},
   "source": [
    "It's clear from the above that above a cint_rate_base2006 of ~5000 the estimation starts to fall apart."
   ]
  },
  {
   "cell_type": "code",
   "execution_count": null,
   "metadata": {},
   "outputs": [],
   "source": [
    "# Fujitsu M10-4S (836550 SAPS and 13625.00 cint_rate_base2006)\n",
    "print (spec2saps(13625))"
   ]
  },
  {
   "cell_type": "code",
   "execution_count": null,
   "metadata": {},
   "outputs": [],
   "source": [
    "# SUN FIRE V490 (ULTRASPARC IV, 6750 SAPS, 71.70 cint_rate_base2006)\n",
    "print (spec2saps(71.70))"
   ]
  },
  {
   "cell_type": "code",
   "execution_count": null,
   "metadata": {},
   "outputs": [],
   "source": [
    "# Intel Xeon 7140M (10380 SAPS, 76.9 cint_rate_base2006)\n",
    "print (spec2saps(76.9))"
   ]
  },
  {
   "cell_type": "code",
   "execution_count": null,
   "metadata": {},
   "outputs": [],
   "source": [
    "# Sun M9000 (2.88GHz, 175600 SAPS and 2400 cint_rate_base2006)\n",
    "print (spec2saps(2400))"
   ]
  },
  {
   "cell_type": "code",
   "execution_count": null,
   "metadata": {},
   "outputs": [],
   "source": [
    "# Sun M3000 (2.52GHz, 4130 SAPS and 25.7 cint_rate_base2006)\n",
    "print (spec2saps(25.7))"
   ]
  },
  {
   "cell_type": "code",
   "execution_count": null,
   "metadata": {},
   "outputs": [],
   "source": [
    "# IBM POWER 730, 47600 SAPS, 515 cint_rate_base2006, the error is large because the model is mostly influenced\n",
    "# by Intel Xeon data points\n",
    "print (spec2saps(515))"
   ]
  },
  {
   "cell_type": "code",
   "execution_count": null,
   "metadata": {},
   "outputs": [],
   "source": [
    "# Here's an Intel Xeon data point.. good fit\n",
    "# CISCO UCS C260 M2 (INTEL XEON E7-2870, 2.40 GHZ)  36600 SAPS, 526 cint_rate_base2006\n",
    "print (spec2saps(526))"
   ]
  },
  {
   "cell_type": "code",
   "execution_count": null,
   "metadata": {},
   "outputs": [],
   "source": [
    "# another Intel Xeon data point (a rather large system)\n",
    "# CISCO UCS B200 M5 (INTEL XEON PLATINUM 8276, 2.20GHZ) 131170 SAPS, 2868.71 cint_rate_base2006\n",
    "print (spec2saps(2868.71))"
   ]
  },
  {
   "cell_type": "code",
   "execution_count": null,
   "metadata": {},
   "outputs": [],
   "source": [
    "# Sun Fire X4200 (2800 SAPS, 23.1 cint_rate_base2006)\n",
    "print (spec2saps(23.1))"
   ]
  }
 ],
 "metadata": {
  "kernelspec": {
   "display_name": "Python 3",
   "language": "python",
   "name": "python3"
  },
  "language_info": {
   "codemirror_mode": {
    "name": "ipython",
    "version": 3
   },
   "file_extension": ".py",
   "mimetype": "text/x-python",
   "name": "python",
   "nbconvert_exporter": "python",
   "pygments_lexer": "ipython3",
   "version": "3.9.2"
  }
 },
 "nbformat": 4,
 "nbformat_minor": 4
}
